{
 "cells": [
  {
   "cell_type": "code",
   "execution_count": 1,
   "metadata": {},
   "outputs": [],
   "source": [
    "# IF, else and elIF (Nested and chained)\n",
    "#The \"if\" statement allows us to isolate a block of code and execute it only when a certain condition is met"
   ]
  },
  {
   "cell_type": "code",
   "execution_count": 151,
   "metadata": {},
   "outputs": [],
   "source": [
    "import numpy as np\n",
    "from numpy.random import randn"
   ]
  },
  {
   "cell_type": "code",
   "execution_count": 154,
   "metadata": {},
   "outputs": [
    {
     "name": "stdout",
     "output_type": "stream",
     "text": [
      "0.4665769594180234 [ 0.95816902 -0.27294368  0.05016833  1.05957076 -0.08135788 -0.43690415\n",
      "  1.02579106  1.82247467  0.64933679  0.61626668]\n"
     ]
    }
   ],
   "source": [
    "A=randn() ; B=randn(10); print(A,B)"
   ]
  },
  {
   "cell_type": "code",
   "execution_count": 205,
   "metadata": {},
   "outputs": [
    {
     "name": "stdout",
     "output_type": "stream",
     "text": [
      "0.2065631957584726\n",
      "Less than 1\n",
      "[ 1.16676602  0.99200563 -2.80528117  0.57677569  1.01476119  0.97372464\n",
      "  1.46980335 -0.68952568 -0.88418136  0.32876137]\n"
     ]
    }
   ],
   "source": [
    "# checking the number where it is distributed # ---- -2 ---- -1 -----0------1 -----2\n",
    "answer= None\n",
    "x = randn() ; y = randn(10)\n",
    "if x > 1:\n",
    "    answer = 'Greater than 1'\n",
    "else:\n",
    "    answer = 'Less than 1'\n",
    "print(x)\n",
    "print(answer)\n",
    "print(y)\n"
   ]
  },
  {
   "cell_type": "code",
   "execution_count": 220,
   "metadata": {},
   "outputs": [
    {
     "name": "stdout",
     "output_type": "stream",
     "text": [
      "1.6608655945845892 which category Greater then 1\n"
     ]
    }
   ],
   "source": [
    "# nested statements--- Checking in which range it lies # ---- -2 ---- -1 -----0------1 -----2\n",
    "answer = None\n",
    "x=randn()\n",
    "if x>1:\n",
    "    answer='Greater then 1'\n",
    "else:\n",
    "        if x >=-1: # not that if and else should be alligned in one line because of tabulation in python *\n",
    "            answer='Between -1 and 1'\n",
    "        else:\n",
    "                answer= 'less than -1'\n",
    "print (x,\"which category\",answer)\n"
   ]
  },
  {
   "cell_type": "code",
   "execution_count": 234,
   "metadata": {},
   "outputs": [
    {
     "name": "stdout",
     "output_type": "stream",
     "text": [
      "only executed only less than -1\n",
      "-2.1249294960611613 which category less than -1\n"
     ]
    }
   ],
   "source": [
    "#Chained Statements for the # ---- -2 ---- -1 -----0------1 -----2.. Nested has inside one another \n",
    "#but chained is one line by one line\n",
    "# elseif in pyhton is elif\n",
    "answer = None\n",
    "x=randn()\n",
    "if x>1:\n",
    "    answer='Greater then 1'\n",
    "elif x >=-1: # not that if and else should be alligned in one line because of tabulation in python *\n",
    "    answer='Between -1 and 1'\n",
    "else:\n",
    "       answer= 'less than -1'\n",
    "       print(\"only executed only less than -1\") # indentation makes into big difference. here print came in to if statement\n",
    "print (x,\"which category\",answer)"
   ]
  }
 ],
 "metadata": {
  "kernelspec": {
   "display_name": "Python 3",
   "language": "python",
   "name": "python3"
  },
  "language_info": {
   "codemirror_mode": {
    "name": "ipython",
    "version": 3
   },
   "file_extension": ".py",
   "mimetype": "text/x-python",
   "name": "python",
   "nbconvert_exporter": "python",
   "pygments_lexer": "ipython3",
   "version": "3.6.4"
  }
 },
 "nbformat": 4,
 "nbformat_minor": 2
}
