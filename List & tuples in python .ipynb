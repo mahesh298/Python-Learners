{
 "cells": [
  {
   "cell_type": "code",
   "execution_count": null,
   "metadata": {},
   "outputs": [],
   "source": [
    "# list are like arrays in a other language programs ...list is a ordered sequence of elements or set of elements\n",
    "# which are numerated.\n",
    "#Slicing a list creates a copy of that list, slicing an array creates a view of that array (not a copy)\n",
    "#list are like ordered set of elements\n",
    "\"\"\" \n",
    "In python we can have mixed datatypes in python list\n",
    "\"\"\""
   ]
  },
  {
   "cell_type": "code",
   "execution_count": 7,
   "metadata": {},
   "outputs": [
    {
     "name": "stdout",
     "output_type": "stream",
     "text": [
      "[3, 4, 5, 32, 55, 4]\n"
     ]
    }
   ],
   "source": [
    "list1=[3,4,5,32,55,4]; l2=[\"hello\",23,True,24,2,3.32]\n",
    "list1\n",
    "l2; print(list1)"
   ]
  },
  {
   "cell_type": "code",
   "execution_count": 4,
   "metadata": {},
   "outputs": [
    {
     "data": {
      "text/plain": [
       "list"
      ]
     },
     "execution_count": 4,
     "metadata": {},
     "output_type": "execute_result"
    }
   ],
   "source": [
    "type(list1)"
   ]
  },
  {
   "cell_type": "code",
   "execution_count": 9,
   "metadata": {},
   "outputs": [
    {
     "data": {
      "text/plain": [
       "[[3, 4, 5, 32, 55, 4], ['hello', 23, True, 24, 2, 3.32]]"
      ]
     },
     "execution_count": 9,
     "metadata": {},
     "output_type": "execute_result"
    }
   ],
   "source": [
    "#list of lists is also possible.like\n",
    "l3=[list1,l2]\n",
    "l3"
   ]
  },
  {
   "cell_type": "markdown",
   "metadata": {},
   "source": [
    "----"
   ]
  },
  {
   "cell_type": "code",
   "execution_count": 13,
   "metadata": {},
   "outputs": [
    {
     "data": {
      "text/plain": [
       "[0, 1, 2, 3, 4, 5, 6, 7, 8, 9, 10, 11, 12, 13, 14, 15, 16, 17, 18, 19, 20]"
      ]
     },
     "execution_count": 13,
     "metadata": {},
     "output_type": "execute_result"
    }
   ],
   "source": [
    "#Range Function  its a iterator or generator this is same as xrange in python2\n",
    "range(0,21)\n",
    "list(range(0,21))# 0-starting value and 21 is number of values"
   ]
  },
  {
   "cell_type": "code",
   "execution_count": 19,
   "metadata": {},
   "outputs": [
    {
     "name": "stdout",
     "output_type": "stream",
     "text": [
      "[2, 3, 4]\n",
      "[0, 1, 2, 3, 4, 5, 6, 7, 8, 9, 10, 11, 12, 13, 14, 15, 16, 17, 18, 19, 20]\n",
      "[100, 102, 104, 106, 108]\n"
     ]
    },
    {
     "data": {
      "text/plain": [
       "[100, 110, 120, 130, 140, 150, 160, 170, 180, 190]"
      ]
     },
     "execution_count": 19,
     "metadata": {},
     "output_type": "execute_result"
    }
   ],
   "source": [
    "x= list(range(2,5))\n",
    "print(x) \n",
    "# or \n",
    "y = list(range(21))\n",
    "print(y) # similar to 0 keeping in starting in range above\n",
    "z=list(range(100,110,2)) #2 is the step incremented by value!\n",
    "print(z)\n",
    "w=list(range(100,200,10)) # 10 is the step incremented value!\n",
    "print(w)"
   ]
  },
  {
   "cell_type": "code",
   "execution_count": 24,
   "metadata": {},
   "outputs": [
    {
     "name": "stdout",
     "output_type": "stream",
     "text": [
      "a b d e\n"
     ]
    },
    {
     "data": {
      "text/plain": [
       "5"
      ]
     },
     "execution_count": 24,
     "metadata": {},
     "output_type": "execute_result"
    }
   ],
   "source": [
    "A=['a','b','c','d','e'] #indexes are started from 0 which gives out the values of the list itstart like (start->.0-1-2-3-...or may\n",
    "                        # it may start lie .....-3-- -2 -- -1.\n",
    "print(A[0],A[1],A[3],A[-1])\n",
    "# to know lenght of list use len function\n",
    "len(A)"
   ]
  },
  {
   "cell_type": "code",
   "execution_count": 30,
   "metadata": {},
   "outputs": [
    {
     "data": {
      "text/plain": [
       "['a', 'b', 'C', 'd', 'E']"
      ]
     },
     "execution_count": 30,
     "metadata": {},
     "output_type": "execute_result"
    }
   ],
   "source": [
    "#overwriting values in python\n",
    "A[2] = 'C'#overwriting c as C\n",
    "A[-1] = 'E'\n",
    "A"
   ]
  },
  {
   "cell_type": "code",
   "execution_count": 50,
   "metadata": {},
   "outputs": [
    {
     "name": "stdout",
     "output_type": "stream",
     "text": [
      "['a', 'b', 'C', 'd']\n"
     ]
    },
    {
     "data": {
      "text/plain": [
       "'they are very tricky a proble solving case its very useful for  filtering operation'"
      ]
     },
     "execution_count": 50,
     "metadata": {},
     "output_type": "execute_result"
    }
   ],
   "source": [
    "#indexes are very useful for the list in python ....lygometry(darkness measuring....measuring which he don't know) \n",
    "#its very important for Data science and Analysis\n",
    "#slicing in python\n",
    "print(A[0:4]) \n",
    "\"\"\"they are very tricky a proble solving case its very useful for  filtering operation\"\"\""
   ]
  },
  {
   "cell_type": "code",
   "execution_count": 53,
   "metadata": {},
   "outputs": [
    {
     "name": "stdout",
     "output_type": "stream",
     "text": [
      "['a', 'b', 'C', 'd', 'E']\n",
      "['C', 'd', 'E']\n",
      "['a', 'b', 'C', 'd', 'E']\n",
      "['a', 'b', 'C', 'd']\n",
      "['C', 'd']\n",
      "['C', 'd']\n",
      "['a', 'C']\n",
      "['a', 'b', 'C', 'd', 'E']\n",
      "[]\n"
     ]
    }
   ],
   "source": [
    "#slicing(left:right:step) in python. #subsetting in python is slicing step is similar in the range by default its 1\n",
    "#Slicing a list creates a copy of that list, slicing an array creates a view of that array (not a copy)\n",
    "print(A[:]) # everything\n",
    "print(A[2:]) #from 3rd number\n",
    "print(A[:5]) # upto 5 number\n",
    "print(A[:-1]) \n",
    "print(A[2:4]) #left is starting indexing and right is not included\n",
    "print(A[-3:4]) # it may be a negative slicing\n",
    "\"\"\"Advanced Slicing using step argument in indexing\"\"\"\n",
    "print(A[0:4:2]) #using step in slicing\n",
    "print(A[0:5:1]) \n",
    "print(A[0:3:-1])  # negative in step"
   ]
  },
  {
   "cell_type": "code",
   "execution_count": 60,
   "metadata": {},
   "outputs": [
    {
     "name": "stdout",
     "output_type": "stream",
     "text": [
      "['E', 'd', 'C', 'b', 'a']\n",
      "['a', 'b', 'C', 'd', 'E']\n",
      "['E', 'd', 'C']\n",
      "['E', 'C']\n"
     ]
    }
   ],
   "source": [
    "# Negative step in slicing\n",
    "print(A[::-1]) # its give you reverse order\n",
    "print(A[0:5:1]) # going in right(->) and if we add negative step its reverse\n",
    "print(A[4:1:-1]) # now its taking left direction(<-) for slicing and order of list is also converted in reverse direction\n",
    "print(A[4:1:-2])"
   ]
  },
  {
   "cell_type": "code",
   "execution_count": null,
   "metadata": {},
   "outputs": [],
   "source": [
    "#tuple is a immutable list(immutable sequence of values)\n",
    "t1 = (23,23,434,3234,23) #similar to list but with round brackets()\n",
    "# it will also follow th indexing slicing like list but its immutable -> means you can't change values of tuples like lists\n",
    "list1=[234,4,234,23,24,2]\n",
    "list1[2]='The value will be changed in this indexx number'\n",
    "print(list1) ; print(t1) #t2[2]=--number will throw an error"
   ]
  }
 ],
 "metadata": {
  "kernelspec": {
   "display_name": "Python 3",
   "language": "python",
   "name": "python3"
  },
  "language_info": {
   "codemirror_mode": {
    "name": "ipython",
    "version": 3
   },
   "file_extension": ".py",
   "mimetype": "text/x-python",
   "name": "python",
   "nbconvert_exporter": "python",
   "pygments_lexer": "ipython3",
   "version": "3.6.4"
  }
 },
 "nbformat": 4,
 "nbformat_minor": 2
}
