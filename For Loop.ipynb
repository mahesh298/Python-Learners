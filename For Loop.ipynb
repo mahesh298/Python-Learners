{
 "cells": [
  {
   "cell_type": "code",
   "execution_count": 17,
   "metadata": {},
   "outputs": [
    {
     "name": "stdout",
     "output_type": "stream",
     "text": [
      "Hello World\n",
      "Hello World\n",
      "Hello World\n",
      "Hello World\n",
      "Hello World\n"
     ]
    }
   ],
   "source": [
    "for i in range(5): # similar to while\n",
    "    print(\"Hello World\")"
   ]
  },
  {
   "cell_type": "markdown",
   "metadata": {},
   "source": [
    "----"
   ]
  },
  {
   "cell_type": "code",
   "execution_count": 18,
   "metadata": {},
   "outputs": [
    {
     "name": "stdout",
     "output_type": "stream",
     "text": [
      "[2, 3, 4, 5, 6, 7, 8, 9, 10, 11]\n"
     ]
    }
   ],
   "source": [
    "A=range(2,12,); print(list(A))"
   ]
  },
  {
   "cell_type": "code",
   "execution_count": 19,
   "metadata": {},
   "outputs": [
    {
     "name": "stdout",
     "output_type": "stream",
     "text": [
      "Hello Python 0\n",
      "Hello Python 1\n",
      "Hello Python 2\n",
      "Hello Python 3\n"
     ]
    }
   ],
   "source": [
    "for i in range(4):\n",
    "    print('Hello Python',i)"
   ]
  },
  {
   "cell_type": "code",
   "execution_count": 21,
   "metadata": {},
   "outputs": [
    {
     "name": "stdout",
     "output_type": "stream",
     "text": [
      "Hello Python 5\n",
      "second line\n",
      "Hello Python 6\n",
      "second line\n",
      "Hello Python 7\n",
      "second line\n",
      "Hello Python 8\n",
      "second line\n",
      "Hello Python 9\n",
      "second line\n",
      "Hello Python 10\n",
      "second line\n",
      "Hello Python 11\n",
      "second line\n",
      "Hello Python 12\n",
      "second line\n",
      "Hello Python 13\n",
      "second line\n",
      "Hello Python 14\n",
      "second line\n",
      "Hello Python 15\n",
      "second line\n",
      "Hello Python 16\n",
      "second line\n",
      "Hello Python 17\n",
      "second line\n",
      "Hello Python 18\n",
      "second line\n"
     ]
    }
   ],
   "source": [
    "for i in range(5,19):\n",
    "    print('Hello Python',i)\n",
    "    print('second line')"
   ]
  },
  {
   "cell_type": "code",
   "execution_count": 22,
   "metadata": {},
   "outputs": [],
   "source": [
    "# Another Way of creating for loops\n",
    "mylist= [10,100,1000]"
   ]
  },
  {
   "cell_type": "code",
   "execution_count": 23,
   "metadata": {},
   "outputs": [
    {
     "name": "stdout",
     "output_type": "stream",
     "text": [
      "[10, 100, 1000]\n"
     ]
    }
   ],
   "source": [
    "print(mylist)"
   ]
  },
  {
   "cell_type": "code",
   "execution_count": 25,
   "metadata": {},
   "outputs": [
    {
     "name": "stdout",
     "output_type": "stream",
     "text": [
      "python value in rey 1\n",
      "python value in rey 2\n",
      "python value in rey 34\n",
      "python value in rey 5\n",
      "python value in rey 5\n",
      "python value in rey 6\n",
      "python value in rey 7\n",
      "python value in rey 7\n"
     ]
    }
   ],
   "source": [
    "mylist= [1,2,34,5,5,6,7,7]\n",
    "for rey in mylist:\n",
    "    print('python value in rey',rey)"
   ]
  },
  {
   "cell_type": "code",
   "execution_count": 11,
   "metadata": {},
   "outputs": [
    {
     "name": "stdout",
     "output_type": "stream",
     "text": [
      "1\n",
      "2\n",
      "3\n"
     ]
    },
    {
     "data": {
      "text/plain": [
       "3"
      ]
     },
     "execution_count": 11,
     "metadata": {},
     "output_type": "execute_result"
    }
   ],
   "source": [
    "l=[1,2,3]\n",
    "for i in range(0,len(l)):\n",
    "    print (l[i])\n",
    "len(l)"
   ]
  },
  {
   "cell_type": "code",
   "execution_count": 13,
   "metadata": {},
   "outputs": [
    {
     "data": {
      "text/plain": [
       "[0, 1, 2, 3, 4]"
      ]
     },
     "execution_count": 13,
     "metadata": {},
     "output_type": "execute_result"
    }
   ],
   "source": [
    "l1=list(range(0,5))\n",
    "l1"
   ]
  }
 ],
 "metadata": {
  "kernelspec": {
   "display_name": "Python 3",
   "language": "python",
   "name": "python3"
  },
  "language_info": {
   "codemirror_mode": {
    "name": "ipython",
    "version": 3
   },
   "file_extension": ".py",
   "mimetype": "text/x-python",
   "name": "python",
   "nbconvert_exporter": "python",
   "pygments_lexer": "ipython3",
   "version": "3.6.4"
  }
 },
 "nbformat": 4,
 "nbformat_minor": 2
}
