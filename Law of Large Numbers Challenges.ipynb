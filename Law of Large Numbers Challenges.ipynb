{
 "cells": [
  {
   "cell_type": "code",
   "execution_count": 2,
   "metadata": {},
   "outputs": [],
   "source": [
    "# law of large numbers is simple and very powerful Concept.....ex: Coin toses and sample of population\n",
    "#As we increase the sample size the average of the measured value is starts to going to convert in to expected value.\n",
    "# Xn(mean of sample) is tends to convert to Expected Mean(Ex) \n",
    "#when n(no of obersations) tends to becomes infinite n->C0(infinity)"
   ]
  },
  {
   "cell_type": "code",
   "execution_count": 4,
   "metadata": {},
   "outputs": [
    {
     "data": {
      "text/plain": [
       "' test the law of large numbers for N randon Normally distributed numbers with Mean=0 and Std=1:\\n    create a python script that will count how many of these numbers fall between -1 and 1 and divide by the total quantity of N\\n    we know the expected standard values are \\n    (0.1%)---<-3---(2.1%)----<-2---(13.6%)--<-1--(34.1%)--<0--(34.1%)--<1--(13.6%)--<2--(2.1%)--<3--(0.1%)\\n    so the expected value of between -1 and 1 = 34.1*2 = 68.2%\\n    we need to check the Mean(Xn) -> E(X) as you return your script while increasing N\\n'"
      ]
     },
     "execution_count": 4,
     "metadata": {},
     "output_type": "execute_result"
    }
   ],
   "source": [
    "\"\"\" test the law of large numbers for N randon Normally distributed numbers with Mean=0 and Std=1:\n",
    "    create a python script that will count how many of these numbers fall between -1 and 1 and divide by the total quantity of N\n",
    "    we know the expected standard values are \n",
    "    (0.1%)---<-3---(2.1%)----<-2---(13.6%)--<-1--(34.1%)--<0--(34.1%)--<1--(13.6%)--<2--(2.1%)--<3--(0.1%)\n",
    "    so the expected value of between -1 and 1 = 34.1*2 = 68.2%\n",
    "    we need to check the Mean(Xn) -> E(X) as you return your script while increasing N\n",
    "\"\"\""
   ]
  },
  {
   "cell_type": "code",
   "execution_count": 3,
   "metadata": {},
   "outputs": [
    {
     "name": "stdout",
     "output_type": "stream",
     "text": [
      "Abra Kadabra\n",
      "Abra Kadabra\n",
      "Abra Kadabra\n",
      "Abra Kadabra\n"
     ]
    }
   ],
   "source": [
    "counter = 0\n",
    "while counter < 4:\n",
    "    print(\"Abra Kadabra\")\n",
    "    counter = counter + 1\n",
    " "
   ]
  },
  {
   "cell_type": "code",
   "execution_count": 89,
   "metadata": {},
   "outputs": [
    {
     "name": "stdout",
     "output_type": "stream",
     "text": [
      "0 0.7214257555842453 falls between -1 and 1\n",
      "0.7214257555842453 0.22879564844224293 falls between -1 and 1\n",
      "0.9502214040264882 0.7178922803554084 falls between -1 and 1\n",
      "1.6681136843818967 1.9895733154535944 falls between -1 and 1\n",
      "3.657686999835491 -1.0128898113799925 falls between -1 and 1\n",
      "-1.0128898113799925 randon sample 2.6447971884554984 counter variable count 5 number of samples\n"
     ]
    }
   ],
   "source": [
    "import numpy as np\n",
    "from numpy.random import randn\n",
    "N=5\n",
    "x=0\n",
    "for i in randn(N):\n",
    "    if(-1 and 1):\n",
    "        print(x,i,\"falls between -1 and 1\")\n",
    "        x= i + x\n",
    "print(i,\"randon sample\",x,\"counter variable count\",N,\"number of samples\")"
   ]
  },
  {
   "cell_type": "code",
   "execution_count": 73,
   "metadata": {},
   "outputs": [
    {
     "name": "stdout",
     "output_type": "stream",
     "text": [
      "-0.052514373717533695 -52.514373717533694 1000\n"
     ]
    }
   ],
   "source": [
    "import numpy as np\n",
    "from numpy.random import randn\n",
    "N = 1000                               #specify sample size\n",
    "counter = 0                            #reset counter\n",
    "for i in randn(N):                     #iterate over random values\n",
    "    if( -1 and 1):                     #check where iterated variable falls\n",
    "        counter = i + counter          #increase counter if condition is met\n",
    "answer = counter / N                   #calculate hit_ratio\n",
    "print(answer,counter,N)                #printing\n"
   ]
  }
 ],
 "metadata": {
  "kernelspec": {
   "display_name": "Python 3",
   "language": "python",
   "name": "python3"
  },
  "language_info": {
   "codemirror_mode": {
    "name": "ipython",
    "version": 3
   },
   "file_extension": ".py",
   "mimetype": "text/x-python",
   "name": "python",
   "nbconvert_exporter": "python",
   "pygments_lexer": "ipython3",
   "version": "3.6.4"
  }
 },
 "nbformat": 4,
 "nbformat_minor": 2
}
